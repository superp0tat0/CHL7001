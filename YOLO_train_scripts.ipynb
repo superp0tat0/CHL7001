{
 "cells": [
  {
   "cell_type": "code",
   "execution_count": null,
   "source": [
    "import numpy as np, pandas as pd\n",
    "from glob import glob\n",
    "import shutil, os\n",
    "import matplotlib.pyplot as plt\n",
    "from sklearn.model_selection import GroupKFold\n",
    "from tqdm.notebook import tqdm\n",
    "import seaborn as sns\n",
    "import torch\n",
    "from IPython.display import Image, clear_output  # to display images"
   ],
   "outputs": [],
   "metadata": {}
  },
  {
   "cell_type": "code",
   "execution_count": null,
   "source": [
    "fold = 0\n",
    "train_df = pd.read_csv(f'./image_info/train_image_level.csv')\n",
    "train_df.head()"
   ],
   "outputs": [],
   "metadata": {}
  },
  {
   "cell_type": "code",
   "execution_count": null,
   "source": [
    "df = train_df\n",
    "gkf  = GroupKFold(n_splits = 5)\n",
    "df['fold'] = -1\n",
    "for fold, (train_idx, val_idx) in enumerate(gkf.split(df, groups = df.StudyInstanceUID.tolist())):\n",
    "    df.loc[val_idx, 'fold'] = fold"
   ],
   "outputs": [],
   "metadata": {}
  },
  {
   "cell_type": "code",
   "execution_count": null,
   "source": [
    "train_df = df\n",
    "train_df['image_path'] = f'./images/512jpg/train/' + train_df.id.str.replace(\"_image\", \"\") + '.jpg'\n",
    "train_df.head()"
   ],
   "outputs": [],
   "metadata": {}
  },
  {
   "cell_type": "code",
   "execution_count": null,
   "source": [
    "train_files = []\n",
    "val_files   = []\n",
    "val_files += list(train_df[train_df.fold==fold].image_path.unique())\n",
    "train_files += list(train_df[train_df.fold!=fold].image_path.unique())\n",
    "len(train_files), len(val_files)"
   ],
   "outputs": [],
   "metadata": {}
  },
  {
   "cell_type": "code",
   "execution_count": null,
   "source": [
    "print(train_files[1])"
   ],
   "outputs": [],
   "metadata": {}
  },
  {
   "cell_type": "code",
   "execution_count": null,
   "source": [
    "os.makedirs('./images/yolo_images/labels/train', exist_ok = True)\n",
    "os.makedirs('./images/yolo_images/labels/val', exist_ok = True)\n",
    "os.makedirs('./images/yolo_images/images/train', exist_ok = True)\n",
    "os.makedirs('./images/yolo_images/images/val', exist_ok = True)\n",
    "label_dir = './images/box_locations'\n",
    "\n",
    "for file in tqdm(train_files):\n",
    "    shutil.copy(file, './images/yolo_images/images/train')\n",
    "    filename = file.split('/')[-1].split('.')[0]\n",
    "    shutil.copy(os.path.join(label_dir, filename+'.txt'), './images/yolo_images/labels/train')\n",
    "    \n",
    "for file in tqdm(val_files):\n",
    "    shutil.copy(file, './images/yolo_images/images/val')\n",
    "    filename = file.split('/')[-1].split('.')[0]\n",
    "    shutil.copy(os.path.join(label_dir, filename+'.txt'), './images/yolo_images/labels/val')"
   ],
   "outputs": [],
   "metadata": {}
  },
  {
   "cell_type": "code",
   "execution_count": null,
   "source": [
    "from os import listdir\n",
    "from os.path import isfile, join\n",
    "import yaml\n",
    "\n",
    "classes = ['0. opacity', '1. none']\n",
    "\n",
    "cwd = '/Users/siyiwei/Desktop/COVID_XRay_Detection/images/yolo_images/'\n",
    "config = '/Users/siyiwei/Desktop/COVID_XRay_Detection/models/'\n",
    "\n",
    "with open(join( config , 'train.txt'), 'w') as f:\n",
    "    for path in glob('/Users/siyiwei/Desktop/COVID_XRay_Detection/images/yolo_images/images/train/*'):\n",
    "        f.write(path+'\\n')\n",
    "            \n",
    "with open(join( config , 'val.txt'), 'w') as f:\n",
    "    for path in glob('/Users/siyiwei/Desktop/COVID_XRay_Detection/images/yolo_images/images/val/*'):\n",
    "        f.write(path+'\\n')\n",
    "\n",
    "data = dict(\n",
    "    train =  join( config , 'train.txt') ,\n",
    "    val   =  join( config , 'val.txt' ),\n",
    "    nc    = 2,\n",
    "    names = classes\n",
    "    )\n",
    "\n",
    "with open(join( config , 'siim-cov19.yaml'), 'w') as outfile:\n",
    "    yaml.dump(data, outfile, default_flow_style=False)\n",
    "\n",
    "f = open(join( config , 'siim-cov19.yaml'), 'r')\n",
    "print('\\nyaml:')\n",
    "print(f.read())"
   ],
   "outputs": [],
   "metadata": {}
  },
  {
   "cell_type": "code",
   "execution_count": null,
   "source": [
    "os.chdir('/Users/siyiwei/Desktop/COVID_XRay_Detection/yolov5')\n",
    "print('Setup complete. Using torch %s %s' % (torch.__version__, torch.cuda.get_device_properties(0) if torch.cuda.is_available() else 'CPU'))"
   ],
   "outputs": [],
   "metadata": {}
  },
  {
   "cell_type": "code",
   "execution_count": null,
   "source": [
    "!python3 detect.py --weights yolov5s.pt --img 512 --conf 0.25 --source data/images/"
   ],
   "outputs": [],
   "metadata": {}
  },
  {
   "cell_type": "code",
   "execution_count": null,
   "source": [
    "!python3 train.py \\\n",
    "    --img 512 \\\n",
    "    --batch 24 \\\n",
    "    --epochs 35 \\\n",
    "    --data /Users/siyiwei/Desktop/COVID_XRay_Detection/models/siim-cov19.yaml \\\n",
    "    --hyp /Users/siyiwei/Desktop/COVID_XRay_Detection/models/hyp.scratch.yaml \\\n",
    "    --weights yolov5x.pt --cache"
   ],
   "outputs": [],
   "metadata": {}
  }
 ],
 "metadata": {
  "kernelspec": {
   "name": "python3",
   "display_name": "Python 3.9.5 64-bit"
  },
  "language_info": {
   "codemirror_mode": {
    "name": "ipython",
    "version": 3
   },
   "file_extension": ".py",
   "mimetype": "text/x-python",
   "name": "python",
   "nbconvert_exporter": "python",
   "pygments_lexer": "ipython3",
   "version": "3.9.5"
  },
  "interpreter": {
   "hash": "aee8b7b246df8f9039afb4144a1f6fd8d2ca17a180786b69acc140d282b71a49"
  }
 },
 "nbformat": 4,
 "nbformat_minor": 5
}